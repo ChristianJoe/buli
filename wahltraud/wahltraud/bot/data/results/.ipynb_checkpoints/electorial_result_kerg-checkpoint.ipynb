{
 "cells": [
  {
   "cell_type": "code",
   "execution_count": 10,
   "metadata": {},
   "outputs": [
    {
     "ename": "NameError",
     "evalue": "name '__file__' is not defined",
     "output_type": "error",
     "traceback": [
      "\u001b[0;31m---------------------------------------------------------------------------\u001b[0m",
      "\u001b[0;31mNameError\u001b[0m                                 Traceback (most recent call last)",
      "\u001b[0;32m<ipython-input-10-74b5ba44406f>\u001b[0m in \u001b[0;36m<module>\u001b[0;34m()\u001b[0m\n\u001b[1;32m      9\u001b[0m \u001b[0;32mfrom\u001b[0m \u001b[0mpathlib\u001b[0m \u001b[0;32mimport\u001b[0m \u001b[0mPath\u001b[0m\u001b[0;34m\u001b[0m\u001b[0m\n\u001b[1;32m     10\u001b[0m \u001b[0;34m\u001b[0m\u001b[0m\n\u001b[0;32m---> 11\u001b[0;31m \u001b[0mDATA_DIR\u001b[0m \u001b[0;34m=\u001b[0m \u001b[0mPath\u001b[0m\u001b[0;34m(\u001b[0m\u001b[0m__file__\u001b[0m\u001b[0;34m)\u001b[0m\u001b[0;34m.\u001b[0m\u001b[0mabsolute\u001b[0m\u001b[0;34m(\u001b[0m\u001b[0;34m)\u001b[0m\u001b[0;34m.\u001b[0m\u001b[0mparent\u001b[0m\u001b[0;34m\u001b[0m\u001b[0m\n\u001b[0m\u001b[1;32m     12\u001b[0m \u001b[0;34m\u001b[0m\u001b[0m\n\u001b[1;32m     13\u001b[0m color_dict = {\"Sonstige\": \"grey\",\n",
      "\u001b[0;31mNameError\u001b[0m: name '__file__' is not defined"
     ]
    }
   ],
   "source": [
    "import pandas as pd\n",
    "import numpy as np\n",
    "import csv\n",
    "from fuzzywuzzy import fuzz\n",
    "import pandas as pd\n",
    "import matplotlib.pyplot as plt\n",
    "%matplotlib inline\n",
    "import datetime\n",
    "#from pathlib import Path\n",
    "\n",
    "#DATA_DIR = Path(__file__).absolute().parent\n",
    "\n",
    "color_dict = {\"Sonstige\": \"grey\",\n",
    "            \"DIE LINKE\" :  \"#96276E\",\n",
    "\"FDP\":\"#F6BB00\",\n",
    "\"AfD\":\"#34A3D2\",\n",
    "\"SPD\":\"#DB4240\",\n",
    "\"CSU\":\"#373737\",\n",
    "\"CDU\":\"#373737\",\n",
    "\"CDU/CSU\": '#373737',\n",
    "\"GRÜNE\":\"#4BA345\",\n",
    "\"PIRATE\": \"#FF8800\"}"
   ]
  },
  {
   "cell_type": "code",
   "execution_count": 2,
   "metadata": {},
   "outputs": [],
   "source": [
    "party_abbrv = pd.read_csv('btw17_parteien.csv', delimiter = ';')\n",
    "long_names = list(party_abbrv['BEZEICHNUNG'].unique())\n",
    "party_abbrv['BEZEICHNUNG'] = party_abbrv['BEZEICHNUNG']\n"
   ]
  },
  {
   "cell_type": "code",
   "execution_count": 3,
   "metadata": {},
   "outputs": [],
   "source": [
    "with open('kerg.csv', 'r') as inp, open('kerg_first_edid.csv', 'w') as out:\n",
    "    writer = csv.writer(out)\n",
    "    for index,row in enumerate(csv.reader(inp)):\n",
    "        #take out first 2 rows\n",
    "        if index ==2:\n",
    "            stringA = ''\n",
    "            for ele in row:\n",
    "                stringA += ele\n",
    "            splitA = stringA.split(';')\n",
    "        if index ==3:\n",
    "            stringB = ''\n",
    "            for ele in row:\n",
    "                stringB += ele\n",
    "            splitB = stringB.split(';')\n",
    "        if index ==4:\n",
    "            stringC = ''\n",
    "            for ele in row:\n",
    "                stringC += ele\n",
    "            splitC = stringC.split(';')\n",
    "            header = ''\n",
    "            extention = []\n",
    "            for nr in range(0,len(splitA)):\n",
    "                A = splitA[nr]\n",
    "                cntA = 1\n",
    "                cntB = 1\n",
    "                cntC = 1\n",
    "                while A == '' and nr >3:\n",
    "                    A = splitA[nr-cntA]\n",
    "                    cntA+=1\n",
    "                for i,value in party_abbrv['BEZEICHNUNG'].iteritems():\n",
    "                    if fuzz.partial_ratio(A,value ) > 95:\n",
    "                        A = party_abbrv.loc[party_abbrv['BEZEICHNUNG']== value]['KURZBEZEICHNUNG'].values[0]\n",
    "                        break\n",
    "                B = splitB[nr]\n",
    "                while B == ''and nr >3:\n",
    "                    B = splitB[nr-cntB]\n",
    "                    cntB+=1\n",
    "                C = splitC[nr]\n",
    "                while C == ''and nr >3:\n",
    "                    C = splitC[nr-cntC]\n",
    "                    cntC+=1\n",
    "                header += (A +' '+ B + ' '+ C).rstrip()\n",
    "                if 3<=nr<=6:\n",
    "                    extention.append((' '+B+' '+C).rstrip())\n",
    "                if nr != len(splitA)-1:\n",
    "                    header+= ';'\n",
    "            writer.writerow([header])\n",
    "        #create body\n",
    "        if index >= 5:\n",
    "            #print(row)\n",
    "            writer.writerow(row)\n",
    "\n",
    "#data = pd.read_csv('kerg.csv', delimiter = \";\")"
   ]
  },
  {
   "cell_type": "code",
   "execution_count": null,
   "metadata": {},
   "outputs": [],
   "source": []
  },
  {
   "cell_type": "code",
   "execution_count": null,
   "metadata": {},
   "outputs": [],
   "source": []
  },
  {
   "cell_type": "code",
   "execution_count": 11,
   "metadata": {},
   "outputs": [
    {
     "ename": "TypeError",
     "evalue": "unsupported operand type(s) for /: 'NoneType' and 'float'",
     "output_type": "error",
     "traceback": [
      "\u001b[0;31m---------------------------------------------------------------------------\u001b[0m",
      "\u001b[0;31mTypeError\u001b[0m                                 Traceback (most recent call last)",
      "\u001b[0;32m<ipython-input-11-ce57a7faa53f>\u001b[0m in \u001b[0;36m<module>\u001b[0;34m()\u001b[0m\n\u001b[1;32m     44\u001b[0m     \u001b[0;32mreturn\u001b[0m \u001b[0mtemp\u001b[0m\u001b[0;34m\u001b[0m\u001b[0m\n\u001b[1;32m     45\u001b[0m \u001b[0;34m\u001b[0m\u001b[0m\n\u001b[0;32m---> 46\u001b[0;31m \u001b[0mresult\u001b[0m\u001b[0;34m(\u001b[0m\u001b[0;36m17\u001b[0m\u001b[0;34m)\u001b[0m\u001b[0;34m\u001b[0m\u001b[0m\n\u001b[0m",
      "\u001b[0;32m<ipython-input-11-ce57a7faa53f>\u001b[0m in \u001b[0;36mresult\u001b[0;34m(wk_nummer)\u001b[0m\n\u001b[1;32m     30\u001b[0m         \u001b[0mtemp\u001b[0m\u001b[0;34m[\u001b[0m\u001b[0mkeys\u001b[0m\u001b[0;34m[\u001b[0m\u001b[0melement\u001b[0m\u001b[0;34m]\u001b[0m\u001b[0;34m]\u001b[0m \u001b[0;34m=\u001b[0m \u001b[0;34m{\u001b[0m\u001b[0;34m}\u001b[0m\u001b[0;34m\u001b[0m\u001b[0m\n\u001b[1;32m     31\u001b[0m         \u001b[0;32mfor\u001b[0m \u001b[0mparty\u001b[0m \u001b[0;32min\u001b[0m \u001b[0mparteien\u001b[0m\u001b[0;34m[\u001b[0m\u001b[0;34m'KURZBEZEICHNUNG'\u001b[0m\u001b[0;34m]\u001b[0m\u001b[0;34m:\u001b[0m\u001b[0;34m\u001b[0m\u001b[0m\n\u001b[0;32m---> 32\u001b[0;31m             \u001b[0mtemp\u001b[0m\u001b[0;34m[\u001b[0m\u001b[0mkeys\u001b[0m\u001b[0;34m[\u001b[0m\u001b[0melement\u001b[0m\u001b[0;34m]\u001b[0m\u001b[0;34m]\u001b[0m\u001b[0;34m[\u001b[0m\u001b[0mparty\u001b[0m\u001b[0;34m]\u001b[0m \u001b[0;34m=\u001b[0m  \u001b[0;34m(\u001b[0m\u001b[0mdata_wk\u001b[0m\u001b[0;34m[\u001b[0m\u001b[0mparty\u001b[0m\u001b[0;34m+\u001b[0m\u001b[0melement\u001b[0m\u001b[0;34m]\u001b[0m\u001b[0;34m.\u001b[0m\u001b[0miloc\u001b[0m\u001b[0;34m[\u001b[0m\u001b[0;36m0\u001b[0m\u001b[0;34m]\u001b[0m\u001b[0;34m/\u001b[0m\u001b[0mdata_wk\u001b[0m\u001b[0;34m[\u001b[0m\u001b[0;34m'Gültige'\u001b[0m\u001b[0;34m+\u001b[0m\u001b[0melement\u001b[0m\u001b[0;34m]\u001b[0m\u001b[0;34m.\u001b[0m\u001b[0miloc\u001b[0m\u001b[0;34m[\u001b[0m\u001b[0;36m0\u001b[0m\u001b[0;34m]\u001b[0m\u001b[0;34m)\u001b[0m\u001b[0;34m\u001b[0m\u001b[0m\n\u001b[0m\u001b[1;32m     33\u001b[0m         \u001b[0mtemp\u001b[0m\u001b[0;34m[\u001b[0m\u001b[0mkeys\u001b[0m\u001b[0;34m[\u001b[0m\u001b[0melement\u001b[0m\u001b[0;34m]\u001b[0m\u001b[0;34m]\u001b[0m\u001b[0;34m[\u001b[0m\u001b[0;34m\"voters\"\u001b[0m\u001b[0;34m]\u001b[0m  \u001b[0;34m=\u001b[0m \u001b[0;34m(\u001b[0m\u001b[0mdata_wk\u001b[0m\u001b[0;34m[\u001b[0m\u001b[0;34m\"Wähler\"\u001b[0m\u001b[0;34m+\u001b[0m\u001b[0melement\u001b[0m\u001b[0;34m]\u001b[0m\u001b[0;34m.\u001b[0m\u001b[0miloc\u001b[0m\u001b[0;34m[\u001b[0m\u001b[0;36m0\u001b[0m\u001b[0;34m]\u001b[0m\u001b[0;34m/\u001b[0m\u001b[0mdata_wk\u001b[0m\u001b[0;34m[\u001b[0m\u001b[0;34m\"Wahlberechtigte\"\u001b[0m\u001b[0;34m+\u001b[0m\u001b[0melement\u001b[0m\u001b[0;34m]\u001b[0m\u001b[0;34m.\u001b[0m\u001b[0miloc\u001b[0m\u001b[0;34m[\u001b[0m\u001b[0;36m0\u001b[0m\u001b[0;34m]\u001b[0m\u001b[0;34m)\u001b[0m\u001b[0;34m\u001b[0m\u001b[0m\n\u001b[1;32m     34\u001b[0m         \u001b[0mtemp\u001b[0m\u001b[0;34m[\u001b[0m\u001b[0mkeys\u001b[0m\u001b[0;34m[\u001b[0m\u001b[0melement\u001b[0m\u001b[0;34m]\u001b[0m\u001b[0;34m]\u001b[0m\u001b[0;34m[\u001b[0m\u001b[0;34m\"voters_invalid\"\u001b[0m\u001b[0;34m]\u001b[0m  \u001b[0;34m=\u001b[0m \u001b[0;34m(\u001b[0m\u001b[0mdata_wk\u001b[0m\u001b[0;34m[\u001b[0m\u001b[0;34m\"Ungültige\"\u001b[0m\u001b[0;34m+\u001b[0m\u001b[0melement\u001b[0m\u001b[0;34m]\u001b[0m\u001b[0;34m.\u001b[0m\u001b[0miloc\u001b[0m\u001b[0;34m[\u001b[0m\u001b[0;36m0\u001b[0m\u001b[0;34m]\u001b[0m\u001b[0;34m/\u001b[0m\u001b[0mdata_wk\u001b[0m\u001b[0;34m[\u001b[0m\u001b[0;34m\"Wahlberechtigte\"\u001b[0m\u001b[0;34m+\u001b[0m\u001b[0melement\u001b[0m\u001b[0;34m]\u001b[0m\u001b[0;34m.\u001b[0m\u001b[0miloc\u001b[0m\u001b[0;34m[\u001b[0m\u001b[0;36m0\u001b[0m\u001b[0;34m]\u001b[0m\u001b[0;34m)\u001b[0m\u001b[0;34m\u001b[0m\u001b[0m\n",
      "\u001b[0;31mTypeError\u001b[0m: unsupported operand type(s) for /: 'NoneType' and 'float'"
     ]
    }
   ],
   "source": [
    "def result(wk_nummer):\n",
    "    \"\"\"\n",
    "    Args: wk_nummer (str):   wahlkreisId\n",
    "                            999 steht für Bundesgebiet\n",
    "\n",
    "    Yields: wahlergebnisse_2013 im wahlkreis wk_nummer (dict)\n",
    "    \"\"\"\n",
    "    \n",
    "    keys = {extention[0]: 'first17',\n",
    "           extention[1]: 'first13',\n",
    "           extention[2]: 'second17',\n",
    "           extention[3]: 'second13'}\n",
    "    # Take data from the election 2013\n",
    "    data = pd.read_csv(\"kerg_first_edid.csv\", delimiter = \";\")\n",
    "    data.loc[data['Gebiet']=='Bundesgebiet','Nr'] = 999\n",
    "    data = data.where((pd.notnull(data)), None)\n",
    "\n",
    "    # Parteien, die 2013 angetreten sind\n",
    "    parteien = party_abbrv[party_abbrv['TYP']== 'Partei']\n",
    "    \n",
    "    # wahl 2013 Bundesgebiet komplett\n",
    "    temp = {}\n",
    "    # set the index to the Nr Column in wahl (wahlergebnisse 2013) in order to query wahlkreis\n",
    "    #  nr corresponds to wk_nummer\n",
    "    data.set_index = [\"Nr\"]\n",
    "    # Nr 999 ist der Index Bundesgebiet\n",
    "    data1 = data.loc[data['Nr'] == wk_nummer ]\n",
    "    data_wk = data1.loc[data1['gehört zu'] != 99]\n",
    "    for element in extention:\n",
    "        temp[keys[element]] = {}\n",
    "        for party in parteien['KURZBEZEICHNUNG']:\n",
    "            x = (data_wk[party+element].iloc[0]/data_wk['Gültige'+element].iloc[0])\n",
    "            temp[keys[element]][party] =  np.where(np.isnan(x),None,x)\n",
    "        temp[keys[element]][\"voters\"]  = (data_wk[\"Wähler\"+element].iloc[0]/data_wk[\"Wahlberechtigte\"+element].iloc[0])\n",
    "        temp[keys[element]][\"voters_invalid\"]  = (data_wk[\"Ungültige\"+element].iloc[0]/data_wk[\"Wahlberechtigte\"+element].iloc[0])\n",
    "\n",
    "    temp['name'] = data_wk['Gebiet'].iloc[0]\n",
    "\n",
    "        #if np.isnan(res) == True:\n",
    "        #    res = float(0)\n",
    "        #   temp[party] = res\n",
    "\n",
    "    #bundesgebiet_wahl_2013 = temp_wahl_2013\n",
    "\n",
    "    return temp\n",
    "    \n",
    "result(17)"
   ]
  },
  {
   "cell_type": "markdown",
   "metadata": {},
   "source": [
    "# Zeitstimme"
   ]
  },
  {
   "cell_type": "code",
   "execution_count": 7,
   "metadata": {},
   "outputs": [
    {
     "data": {
      "image/png": "[encoded data removed]",
      "text/plain": [
       "<matplotlib.figure.Figure at 0x111d202e8>"
      ]
     },
     "metadata": {},
     "output_type": "display_data"
    }
   ],
   "source": [
    "def plot_vote(wk_nummer):\n",
    "    \n",
    "    data = result(wk_nummer)\n",
    "    \n",
    "    values = []\n",
    "    values13 = []\n",
    "    label = []\n",
    "    colors = []\n",
    "    diff = []\n",
    "    election17 = 'second17'\n",
    "    election13 = 'second13'\n",
    "    \n",
    "    top7 = ['CDU', 'CSU', 'SPD', 'DIE LINKE', 'GRÜNE',  'FDP', 'AfD']\n",
    "    \n",
    "    #create base table\n",
    "    for party in top7:\n",
    "        if round(data[election17][party]*100,1)>0:\n",
    "            values.append(round(data[election17][party]*100,1))\n",
    "            values13.append(round(data[election13][party]*100,1))\n",
    "            key = party\n",
    "            label.append(key)\n",
    "            try:\n",
    "                colors.append(color_dict[key])\n",
    "            except:\n",
    "                colors.append('grey')\n",
    "            \n",
    "            if label == ['CDU','CSU']:\n",
    "                values = [sum(values)]\n",
    "                values13 = [sum(values13)]\n",
    "                label = ['CDU/CSU']\n",
    "                colors = [color_dict[label[0]]]\n",
    "    #label = ['CDU/CSU', 'SPD', 'Linke', 'Grüne', 'FDP', 'AfD', 'Sonstige']\n",
    "    \n",
    "    diff = list(np.array(values) - np.array(values13))\n",
    "    colors.append(color_dict['Sonstige'])\n",
    "    label.append('Sonstige')\n",
    "    values.append(100 - sum(values))\n",
    "    diff.append( values[-1] - (100 - sum(values13)))\n",
    "    \n",
    "    \n",
    "    fig= plt.figure(figsize = (10,6))\n",
    "    ax = plt.gca()\n",
    "    index = np.arange(len(values))\n",
    "    bar_width = 0.6\n",
    "    ax.set_axisbelow(True)\n",
    "    backgroundcolor = 'deeppink'\n",
    "    ax.yaxis.grid(color='grey', linestyle='-')\n",
    "    ax.bar(index, values, bar_width,\n",
    "                     color= colors\n",
    "                     )\n",
    "    ax.set_facecolor('0.95')#0.95\n",
    "\n",
    "    plt.xticks(index +bar_width / 2-0.3,label ,fontsize=14)\n",
    "    ax.tick_params(axis=u'both', which=u'both',length=0)\n",
    "    \n",
    "    plt.yticks([5,10,20,30,40,50,60],fontsize=16)\n",
    "    plt.ylabel('Stimmenanteil in %', fontsize = 16)\n",
    "    xy = (index[0], values[0])\n",
    "    for go in index:\n",
    "        text = str(values[go])+'%'\n",
    "        ax.annotate(text, xy=(index[go]-0.25, max(values[go]+2,5.5)), fontsize=16)\n",
    "    #for go in index:\n",
    "        di = diff[go]\n",
    "        text = str(diff[go])+'%'\n",
    "        if di>=0:\n",
    "            text = '+' + text\n",
    "        if values[go] < 1.8:\n",
    "            col = 'k'\n",
    "            ylevel = 2.5\n",
    "        else:\n",
    "            col = 'white'\n",
    "            ylevel = 1\n",
    "        ax.annotate(text, xy=(index[go]-0.27, ylevel), color = col, fontsize=13)\n",
    "    ax.set_ylim(0,max(values)+5)\n",
    "    ax.spines['top'].set_visible(False)\n",
    "    ax.spines['right'].set_visible(False)\n",
    "    #ax.spines['bottom'].set_visible(False)\n",
    "    ax.spines['left'].set_visible(False)\n",
    "    # 5% line\n",
    "    plt.axhline(y=5,  linewidth=2, color = 'k')\n",
    "    plt.title('Vorläufiges Ergebnis  - Zweitstimmen \\n \\\"'\n",
    "              +data['name']+\n",
    "              '\\\" ' ,fontsize = 20)\n",
    "    #ax.annotate('5%', xy=(-1, 5), color = 'k', fontsize=13)\n",
    "    ax.annotate('Wahlbeteiligung:    '+\n",
    "              str(round(data[election17]['voters']*100,1))\n",
    "                +'%\\ndavon ungültig:        '+str(round(data[election17]['voters_invalid']*100,1)) +'%'\n",
    "                ,\n",
    "                xy=(4,33), color = 'k', fontsize = 13)\n",
    "    #plt.title('Sonntags-Frage vom '+ data['Datum'].iloc[0], fontsize = 24)\n",
    "    \n",
    "    \n",
    "    #### THIS PUTS IN A DATE STAMP TO GET RID OF TEST PICTURES\n",
    "    now = datetime.datetime.now()\n",
    "    if now < datetime.datetime(2017, 9, 25, 3, 0, 0):\n",
    "        t = plt.text(0.1, 0.50, 'TEST', transform=ax.transAxes, fontsize=180)\n",
    "        t.set_bbox(dict(facecolor='red', alpha=0.5, edgecolor='red'))\n",
    "    \n",
    "    plt.savefig('../../static/bot/result_grafics/second_distric'+str(wk_nummer)+'.jpg', bbox_inches='tight')\n",
    "    \n",
    "    plt.show()\n",
    "\n",
    "plot_vote(3)"
   ]
  },
  {
   "cell_type": "code",
   "execution_count": null,
   "metadata": {
    "scrolled": true
   },
   "outputs": [],
   "source": [
    "plot_vote(2)"
   ]
  },
  {
   "cell_type": "code",
   "execution_count": 22,
   "metadata": {},
   "outputs": [],
   "source": [
    "#for i in range(1,300):\n",
    "#    second_plot(i)"
   ]
  },
  {
   "cell_type": "code",
   "execution_count": null,
   "metadata": {
    "collapsed": true
   },
   "outputs": [],
   "source": []
  },
  {
   "cell_type": "code",
   "execution_count": null,
   "metadata": {
    "collapsed": true
   },
   "outputs": [],
   "source": []
  }
 ],
 "metadata": {
  "kernelspec": {
   "display_name": "Python 3",
   "language": "python",
   "name": "python3"
  },
  "language_info": {
   "codemirror_mode": {
    "name": "ipython",
    "version": 3
   },
   "file_extension": ".py",
   "mimetype": "text/x-python",
   "name": "python",
   "nbconvert_exporter": "python",
   "pygments_lexer": "ipython3",
   "version": "3.6.0"
  }
 },
 "nbformat": 4,
 "nbformat_minor": 2
}
